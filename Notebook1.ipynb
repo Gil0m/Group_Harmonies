{
 "cells": [
  {
   "cell_type": "markdown",
   "id": "b13df801",
   "metadata": {},
   "source": [
    "# Flock simulation notebook\n",
    "The goal is to create a simulation in which several algorithms might be developped for RL experimentation"
   ]
  },
  {
   "cell_type": "code",
   "execution_count": 6,
   "id": "f1f5ecca",
   "metadata": {},
   "outputs": [],
   "source": [
    "import numpy"
   ]
  }
 ],
 "metadata": {
  "kernelspec": {
   "display_name": "G_Harmonies",
   "language": "python",
   "name": "python3"
  },
  "language_info": {
   "codemirror_mode": {
    "name": "ipython",
    "version": 3
   },
   "file_extension": ".py",
   "mimetype": "text/x-python",
   "name": "python",
   "nbconvert_exporter": "python",
   "pygments_lexer": "ipython3",
   "version": "3.12.2"
  }
 },
 "nbformat": 4,
 "nbformat_minor": 5
}
